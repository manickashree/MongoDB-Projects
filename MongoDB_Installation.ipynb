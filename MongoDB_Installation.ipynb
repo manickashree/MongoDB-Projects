{
 "cells": [
  {
   "cell_type": "code",
   "execution_count": 1,
   "id": "fe103a5c-570c-4ea9-baad-8a32420630e9",
   "metadata": {},
   "outputs": [
    {
     "name": "stdout",
     "output_type": "stream",
     "text": [
      "Defaulting to user installation because normal site-packages is not writeable\n",
      "Collecting pymongo\n",
      "  Downloading pymongo-4.6.2-cp39-cp39-macosx_10_9_universal2.whl.metadata (22 kB)\n",
      "Collecting dnspython<3.0.0,>=1.16.0 (from pymongo)\n",
      "  Downloading dnspython-2.6.1-py3-none-any.whl.metadata (5.8 kB)\n",
      "Downloading pymongo-4.6.2-cp39-cp39-macosx_10_9_universal2.whl (534 kB)\n",
      "\u001b[2K   \u001b[90m━━━━━━━━━━━━━━━━━━━━━━━━━━━━━━━━━━━━━━━━\u001b[0m \u001b[32m534.6/534.6 kB\u001b[0m \u001b[31m8.3 MB/s\u001b[0m eta \u001b[36m0:00:00\u001b[0ma \u001b[36m0:00:01\u001b[0m\n",
      "\u001b[?25hDownloading dnspython-2.6.1-py3-none-any.whl (307 kB)\n",
      "\u001b[2K   \u001b[90m━━━━━━━━━━━━━━━━━━━━━━━━━━━━━━━━━━━━━━━━\u001b[0m \u001b[32m307.7/307.7 kB\u001b[0m \u001b[31m22.1 MB/s\u001b[0m eta \u001b[36m0:00:00\u001b[0m\n",
      "\u001b[?25hInstalling collected packages: dnspython, pymongo\n",
      "Successfully installed dnspython-2.6.1 pymongo-4.6.2\n",
      "\n",
      "\u001b[1m[\u001b[0m\u001b[34;49mnotice\u001b[0m\u001b[1;39;49m]\u001b[0m\u001b[39;49m A new release of pip is available: \u001b[0m\u001b[31;49m23.3.2\u001b[0m\u001b[39;49m -> \u001b[0m\u001b[32;49m24.0\u001b[0m\n",
      "\u001b[1m[\u001b[0m\u001b[34;49mnotice\u001b[0m\u001b[1;39;49m]\u001b[0m\u001b[39;49m To update, run: \u001b[0m\u001b[32;49m/Library/Developer/CommandLineTools/usr/bin/python3 -m pip install --upgrade pip\u001b[0m\n",
      "Note: you may need to restart the kernel to use updated packages.\n"
     ]
    }
   ],
   "source": [
    "## Installing the required library\n",
    "pip install pymongo\n"
   ]
  },
  {
   "cell_type": "code",
   "execution_count": 1,
   "id": "d0161d1f-7c02-4451-87a7-a8231e040fcf",
   "metadata": {},
   "outputs": [
    {
     "name": "stdout",
     "output_type": "stream",
     "text": [
      "{'_id': ObjectId('58f56171ee9d4bd5e610d6c4'), 'id': 129.0, 'num': '129', 'name': 'Magikarp', 'img': 'http://www.serebii.net/pokemongo/pokemon/129.png', 'type': ['Water'], 'height': '0.89 m', 'weight': '10.0 kg', 'candy': 'Magikarp Candy', 'candy_count': 400.0, 'egg': '2 km', 'spawn_chance': 4.78, 'avg_spawns': 478.0, 'spawn_time': '14:26', 'multipliers': [10.1, 11.8], 'weaknesses': ['Electric', 'Grass'], 'next_evolution': [{'num': '130', 'name': 'Gyarados'}]}\n"
     ]
    }
   ],
   "source": [
    "## Importin the the required library\n",
    "from pymongo import MongoClient\n",
    "\n",
    "# Establishing the connection to MongoDB \n",
    "client = MongoClient('localhost', 27017)\n",
    "\n",
    "# Selecting the appropriate database\n",
    "db = client['samples_pokemon']\n",
    "\n",
    "# Selecting the appropriate collection\n",
    "collection = db['samples_pokemon']\n",
    "\n",
    "# Querying the collection where candy_count is greater than 100\n",
    "query_results = collection.find({'candy_count': {'$gt': 100}})\n",
    "\n",
    "# Displaying the results\n",
    "for document in query_results:\n",
    "    print(document)\n"
   ]
  },
  {
   "cell_type": "markdown",
   "id": "060229cf-936a-4655-b6cf-475951c6c253",
   "metadata": {},
   "source": [
    "### We successfully established a connection to MongoDB and retrived the required results from the DB."
   ]
  }
 ],
 "metadata": {
  "kernelspec": {
   "display_name": "Python 3 (ipykernel)",
   "language": "python",
   "name": "python3"
  },
  "language_info": {
   "codemirror_mode": {
    "name": "ipython",
    "version": 3
   },
   "file_extension": ".py",
   "mimetype": "text/x-python",
   "name": "python",
   "nbconvert_exporter": "python",
   "pygments_lexer": "ipython3",
   "version": "3.9.6"
  }
 },
 "nbformat": 4,
 "nbformat_minor": 5
}
